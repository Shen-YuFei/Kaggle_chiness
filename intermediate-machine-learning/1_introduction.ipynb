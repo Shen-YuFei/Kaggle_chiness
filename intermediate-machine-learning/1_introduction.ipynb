{
 "cells": [
  {
   "cell_type": "markdown",
   "metadata": {},
   "source": [
    "# 课程简介\n",
    "\n",
    "欢迎来到 Kaggle 的**机器学习进阶**课程！\n",
    "\n",
    "如果你已有一定的机器学习基础，并希望快速提升模型质量，那么你来对地方了！在本课程中，你将加速进阶，学习如何：\n",
    "- 处理现实数据集中常见的数据类型（如**缺失值**、**类别变量**），\n",
    "- 设计管道（Pipeline）以改进机器学习代码的质量，\n",
    "- 使用更先进的模型验证技术（如**交叉验证**），\n",
    "- 构建在 Kaggle 竞赛中常用且表现出色的模型（如 XGBoost），以及\n",
    "- 避免常见且严重的数据科学错误（如泄漏 leakage）。\n",
    "\n",
    "在学习过程中，每个主题你都将完成一次基于真实数据的动手练习。练习使用的是 [Kaggle Learn 用户房价竞赛](https://www.kaggle.com/c/home-data-for-ml-course) 的数据，你将使用 79 个特征（例如屋顶类型、卧室数量、卫生间数量等）来预测房价。你可以通过向竞赛提交预测，并在[排行榜](https://www.kaggle.com/c/home-data-for-ml-course/leaderboard)上观察名次的提升来衡量进步！\n",
    "\n",
    "\n",
    "# 先修要求\n",
    "\n",
    "如果你曾训练过机器学习模型，并熟悉以下主题：[模型验证](https://www.kaggle.com/dansbecker/model-validation)、[欠拟合与过拟合](https://www.kaggle.com/dansbecker/underfitting-and-overfitting)、[随机森林](https://www.kaggle.com/dansbecker/random-forests)，那么你已为本课程做好准备。  \n",
    "\n",
    "如果你完全是机器学习新手，请先学习我们的[机器学习入门课程](https://www.kaggle.com/learn/intro-to-machine-learning)，其中涵盖了为本课程做准备所需的一切。\n",
    "\n",
    "\n",
    "# 轮到你了\n",
    "\n",
    "继续前往[第一个练习](https://www.kaggle.com/kernels/fork/3370272)，学习如何向 Kaggle 竞赛提交预测，并判断在开始前是否需要复习某些内容。"
   ]
  },
  {
   "cell_type": "markdown",
   "metadata": {},
   "source": [
    "---\n",
    "\n",
    "\n",
    "\n",
    "\n",
    "*有问题或想交流？欢迎访问[课程讨论区](https://www.kaggle.com/learn/intermediate-machine-learning/discussion)与其他学习者交流。*"
   ]
  }
 ],
 "metadata": {
  "kaggle": {
   "accelerator": "none",
   "dataSources": [
    {
     "databundleVersionId": 111096,
     "sourceId": 10211,
     "sourceType": "competition"
    },
    {
     "datasetId": 2996,
     "sourceId": 5019,
     "sourceType": "datasetVersion"
    },
    {
     "datasetId": 2709,
     "sourceId": 38454,
     "sourceType": "datasetVersion"
    }
   ],
   "isGpuEnabled": false,
   "isInternetEnabled": false,
   "language": "python",
   "sourceType": "notebook"
  },
  "kernelspec": {
   "display_name": "Python 3",
   "language": "python",
   "name": "python3"
  },
  "language_info": {
   "codemirror_mode": {
    "name": "ipython",
    "version": 3
   },
   "file_extension": ".py",
   "mimetype": "text/x-python",
   "name": "python",
   "nbconvert_exporter": "python",
   "pygments_lexer": "ipython3",
   "version": "3.11.9"
  }
 },
 "nbformat": 4,
 "nbformat_minor": 4
}
